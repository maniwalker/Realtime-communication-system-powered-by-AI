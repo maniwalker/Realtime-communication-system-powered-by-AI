{
 "cells": [
  {
   "cell_type": "markdown",
   "id": "caeb5126",
   "metadata": {},
   "source": [
    "# Model Training for Real Time Communication through AI for Specially Abled\n",
    "### Loading the Dataset & Image Data Generation"
   ]
  },
  {
   "cell_type": "code",
   "execution_count": 13,
   "id": "d28c672e-2adf-48d4-a932-9eead3615484",
   "metadata": {},
   "outputs": [],
   "source": [
    "from tensorflow.keras.preprocessing.image import ImageDataGenerator"
   ]
  },
  {
   "cell_type": "code",
   "execution_count": 14,
   "id": "59fd6cd1-d07f-4142-9fb5-ad8b39e4d6f8",
   "metadata": {},
   "outputs": [],
   "source": [
    "# Training Datagen\n",
    "train_datagen = ImageDataGenerator(rescale=1/255,zoom_range=0.2,horizontal_flip=True,vertical_flip=False)\n",
    "# Testing Datagen\n",
    "test_datagen = ImageDataGenerator(rescale=1/255)"
   ]
  },
  {
   "cell_type": "code",
   "execution_count": 15,
   "id": "abb15498-7081-4159-8bc2-9446325480b8",
   "metadata": {},
   "outputs": [
    {
     "name": "stdout",
     "output_type": "stream",
     "text": [
      "Found 15750 images belonging to 9 classes.\n",
      "Found 2250 images belonging to 9 classes.\n"
     ]
    }
   ],
   "source": [
    "# Training Dataset\n",
    "x_train=train_datagen.flow_from_directory(r'E:\\IBM\\Real-Time-Communication-Specially-Abled-main\\ProjectFiles\\Dataset\\training_set',target_size=(64,64), class_mode='categorical',batch_size=900)\n",
    "# Testing Dataset\n",
    "x_test=test_datagen.flow_from_directory(r'E:\\IBM\\Real-Time-Communication-Specially-Abled-main\\ProjectFiles\\Dataset\\test_set',target_size=(64,64), class_mode='categorical',batch_size=900)"
   ]
  },
  {
   "cell_type": "code",
   "execution_count": 16,
   "id": "95d51502-6c7f-481f-93d1-fbbf8d4b8312",
   "metadata": {},
   "outputs": [
    {
     "name": "stdout",
     "output_type": "stream",
     "text": [
      "Len x-train :  18\n",
      "Len x-test :  3\n"
     ]
    }
   ],
   "source": [
    "print(\"Len x-train : \", len(x_train))\n",
    "print(\"Len x-test : \", len(x_test))"
   ]
  },
  {
   "cell_type": "code",
   "execution_count": 17,
   "id": "0c7bd1a5-f00c-4e38-8b2b-7d72b87c8342",
   "metadata": {},
   "outputs": [
    {
     "data": {
      "text/plain": [
       "{'A': 0, 'B': 1, 'C': 2, 'D': 3, 'E': 4, 'F': 5, 'G': 6, 'H': 7, 'I': 8}"
      ]
     },
     "execution_count": 17,
     "metadata": {},
     "output_type": "execute_result"
    }
   ],
   "source": [
    "# The Class Indices in Training Dataset\n",
    "x_train.class_indices"
   ]
  },
  {
   "cell_type": "markdown",
   "id": "587735d2-c2e1-41d9-9977-c2cc95d292d1",
   "metadata": {},
   "source": [
    "### Model Creation"
   ]
  },
  {
   "cell_type": "code",
   "execution_count": 18,
   "id": "ce455129-151f-4d93-b620-f9db2406426a",
   "metadata": {},
   "outputs": [],
   "source": [
    "# Importing Libraries\n",
    "from tensorflow.keras.models import Sequential\n",
    "from tensorflow.keras.layers import Convolution2D,MaxPooling2D,Flatten,Dense"
   ]
  },
  {
   "cell_type": "code",
   "execution_count": 19,
   "id": "c153d655-bf2a-4736-86b6-ec89a4e165c9",
   "metadata": {},
   "outputs": [],
   "source": [
    "# Creating Model\n",
    "model=Sequential()"
   ]
  },
  {
   "cell_type": "code",
   "execution_count": 20,
   "id": "9e37f026-48f0-4ce0-93c5-03c15d18c86a",
   "metadata": {},
   "outputs": [],
   "source": [
    "# Adding Layers\n",
    "model.add(Convolution2D(32,(3,3),activation='relu',input_shape=(64,64,3)))\n",
    "model.add(MaxPooling2D(pool_size=(2,2)))\n",
    "model.add(Flatten())\n",
    "\n",
    "# Adding Hidden Layers\n",
    "model.add(Dense(300,activation='relu'))\n",
    "model.add(Dense(150,activation='relu'))\n",
    "\n",
    "# Adding Output Layer\n",
    "model.add(Dense(9,activation='softmax'))"
   ]
  },
  {
   "cell_type": "code",
   "execution_count": 21,
   "id": "29f8b091-69b3-4fea-b6d4-6ea92c4fb717",
   "metadata": {},
   "outputs": [],
   "source": [
    "# Compiling the Model\n",
    "model.compile(loss='categorical_crossentropy',optimizer='adam',metrics=['accuracy'])"
   ]
  },
  {
   "cell_type": "code",
   "execution_count": 22,
   "id": "a7119a0b",
   "metadata": {},
   "outputs": [],
   "source": [
    "import scipy"
   ]
  },
  {
   "cell_type": "code",
   "execution_count": 23,
   "id": "b534c848-a41a-4332-af56-332b8ae63065",
   "metadata": {},
   "outputs": [
    {
     "name": "stdout",
     "output_type": "stream",
     "text": [
      "Epoch 1/30\n",
      "18/18 [==============================] - 316s 17s/step - loss: 1.1518 - accuracy: 0.6241 - val_loss: 0.3785 - val_accuracy: 0.8973\n",
      "Epoch 2/30\n",
      "18/18 [==============================] - 85s 5s/step - loss: 0.2553 - accuracy: 0.9257 - val_loss: 0.2606 - val_accuracy: 0.9356\n",
      "Epoch 3/30\n",
      "18/18 [==============================] - 75s 4s/step - loss: 0.1159 - accuracy: 0.9690 - val_loss: 0.2152 - val_accuracy: 0.9560\n",
      "Epoch 4/30\n",
      "18/18 [==============================] - 77s 4s/step - loss: 0.0614 - accuracy: 0.9841 - val_loss: 0.2015 - val_accuracy: 0.9667\n",
      "Epoch 5/30\n",
      "18/18 [==============================] - 75s 4s/step - loss: 0.0382 - accuracy: 0.9904 - val_loss: 0.2025 - val_accuracy: 0.9738\n",
      "Epoch 6/30\n",
      "18/18 [==============================] - 75s 4s/step - loss: 0.0240 - accuracy: 0.9945 - val_loss: 0.2158 - val_accuracy: 0.9760\n",
      "Epoch 7/30\n",
      "18/18 [==============================] - 108s 6s/step - loss: 0.0162 - accuracy: 0.9966 - val_loss: 0.2205 - val_accuracy: 0.9764\n",
      "Epoch 8/30\n",
      "18/18 [==============================] - 110s 6s/step - loss: 0.0142 - accuracy: 0.9974 - val_loss: 0.2371 - val_accuracy: 0.9773\n",
      "Epoch 9/30\n",
      "18/18 [==============================] - 72s 4s/step - loss: 0.0088 - accuracy: 0.9987 - val_loss: 0.2573 - val_accuracy: 0.9769\n",
      "Epoch 10/30\n",
      "18/18 [==============================] - 70s 4s/step - loss: 0.0080 - accuracy: 0.9986 - val_loss: 0.2329 - val_accuracy: 0.9769\n",
      "Epoch 11/30\n",
      "18/18 [==============================] - 73s 4s/step - loss: 0.0061 - accuracy: 0.9990 - val_loss: 0.2392 - val_accuracy: 0.9778\n",
      "Epoch 12/30\n",
      "18/18 [==============================] - 69s 4s/step - loss: 0.0042 - accuracy: 0.9996 - val_loss: 0.2373 - val_accuracy: 0.9782\n",
      "Epoch 13/30\n",
      "18/18 [==============================] - 69s 4s/step - loss: 0.0043 - accuracy: 0.9992 - val_loss: 0.2326 - val_accuracy: 0.9778\n",
      "Epoch 14/30\n",
      "18/18 [==============================] - 69s 4s/step - loss: 0.0036 - accuracy: 0.9996 - val_loss: 0.2634 - val_accuracy: 0.9787\n",
      "Epoch 15/30\n",
      "18/18 [==============================] - 70s 4s/step - loss: 0.0032 - accuracy: 0.9994 - val_loss: 0.2479 - val_accuracy: 0.9787\n",
      "Epoch 16/30\n",
      "18/18 [==============================] - 68s 4s/step - loss: 0.0024 - accuracy: 0.9999 - val_loss: 0.2504 - val_accuracy: 0.9773\n",
      "Epoch 17/30\n",
      "18/18 [==============================] - 69s 4s/step - loss: 0.0027 - accuracy: 0.9996 - val_loss: 0.2698 - val_accuracy: 0.9782\n",
      "Epoch 18/30\n",
      "18/18 [==============================] - 72s 4s/step - loss: 0.0022 - accuracy: 0.9996 - val_loss: 0.2633 - val_accuracy: 0.9787\n",
      "Epoch 19/30\n",
      "18/18 [==============================] - 134s 8s/step - loss: 0.0016 - accuracy: 0.9999 - val_loss: 0.2737 - val_accuracy: 0.9787\n",
      "Epoch 20/30\n",
      "18/18 [==============================] - 93s 5s/step - loss: 0.0012 - accuracy: 0.9999 - val_loss: 0.2711 - val_accuracy: 0.9787\n",
      "Epoch 21/30\n",
      "18/18 [==============================] - 70s 4s/step - loss: 0.0014 - accuracy: 0.9999 - val_loss: 0.2199 - val_accuracy: 0.9796\n",
      "Epoch 22/30\n",
      "18/18 [==============================] - 70s 4s/step - loss: 0.0014 - accuracy: 0.9999 - val_loss: 0.2459 - val_accuracy: 0.9791\n",
      "Epoch 23/30\n",
      "18/18 [==============================] - 69s 4s/step - loss: 0.0012 - accuracy: 0.9998 - val_loss: 0.2451 - val_accuracy: 0.9791\n",
      "Epoch 24/30\n",
      "18/18 [==============================] - 69s 4s/step - loss: 9.9516e-04 - accuracy: 0.9999 - val_loss: 0.2301 - val_accuracy: 0.9796\n",
      "Epoch 25/30\n",
      "18/18 [==============================] - 69s 4s/step - loss: 9.5330e-04 - accuracy: 0.9999 - val_loss: 0.2541 - val_accuracy: 0.9791\n",
      "Epoch 26/30\n",
      "18/18 [==============================] - 70s 4s/step - loss: 0.0011 - accuracy: 0.9999 - val_loss: 0.2810 - val_accuracy: 0.9787\n",
      "Epoch 27/30\n",
      "18/18 [==============================] - 70s 4s/step - loss: 7.6464e-04 - accuracy: 1.0000 - val_loss: 0.2659 - val_accuracy: 0.9787\n",
      "Epoch 28/30\n",
      "18/18 [==============================] - 69s 4s/step - loss: 5.3638e-04 - accuracy: 1.0000 - val_loss: 0.2944 - val_accuracy: 0.9782\n",
      "Epoch 29/30\n",
      "18/18 [==============================] - 70s 4s/step - loss: 9.5898e-04 - accuracy: 0.9999 - val_loss: 0.2990 - val_accuracy: 0.9782\n",
      "Epoch 30/30\n",
      "18/18 [==============================] - 72s 4s/step - loss: 0.0011 - accuracy: 0.9999 - val_loss: 0.2992 - val_accuracy: 0.9782\n"
     ]
    },
    {
     "data": {
      "text/plain": [
       "<keras.callbacks.History at 0x222aa617550>"
      ]
     },
     "execution_count": 23,
     "metadata": {},
     "output_type": "execute_result"
    }
   ],
   "source": [
    "# Fitting the Model Generator\n",
    "model.fit(x_train,steps_per_epoch=len(x_train),epochs=30,validation_data=x_test,validation_steps=len(x_test))"
   ]
  },
  {
   "cell_type": "markdown",
   "id": "05ad001b-c47a-4d0b-9cdb-d085afd83383",
   "metadata": {},
   "source": [
    "### Saving the Model"
   ]
  },
  {
   "cell_type": "code",
   "execution_count": 24,
   "id": "952eca53-e5aa-4ad5-a868-5fd34080eafa",
   "metadata": {},
   "outputs": [],
   "source": [
    "model.save('asl_model.h5')\n",
    "# Current accuracy is 0.8454"
   ]
  }
 ],
 "metadata": {
  "kernelspec": {
   "display_name": "Python 3.9.0 64-bit",
   "language": "python",
   "name": "python3"
  },
  "language_info": {
   "codemirror_mode": {
    "name": "ipython",
    "version": 3
   },
   "file_extension": ".py",
   "mimetype": "text/x-python",
   "name": "python",
   "nbconvert_exporter": "python",
   "pygments_lexer": "ipython3",
   "version": "3.9.0"
  },
  "vscode": {
   "interpreter": {
    "hash": "11938c6bc6919ae2720b4d5011047913343b08a43b18698fd82dedb0d4417594"
   }
  }
 },
 "nbformat": 4,
 "nbformat_minor": 5
}
